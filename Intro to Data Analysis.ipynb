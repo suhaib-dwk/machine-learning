{
 "cells": [
  {
   "cell_type": "markdown",
   "metadata": {},
   "source": [
    "Numpy"
   ]
  },
  {
   "cell_type": "code",
   "execution_count": 2,
   "metadata": {},
   "outputs": [
    {
     "name": "stdout",
     "output_type": "stream",
     "text": [
      "[[1. 0. 0. 0.]\n",
      " [0. 1. 0. 0.]\n",
      " [0. 0. 1. 0.]\n",
      " [0. 0. 0. 1.]]\n",
      "dimensions => 2\n",
      "shape => (4, 4)\n",
      "size => 16\n",
      "dtype => float64\n"
     ]
    }
   ],
   "source": [
    "import numpy as np\n",
    "import time \n",
    "\n",
    "def describe(ar):\n",
    "    \"\"\"Print out a dsummary of an array\"\"\"\n",
    "    print(ar)\n",
    "    print (f'dimensions => {ar.ndim}') # يحدد البعد في القائمة فهذه القائمة من بعد واحد\n",
    "    print (f'shape => {ar.shape}')# يحدد حجم القائمة\n",
    "    print (f'size => {ar.size}') # تحدد عدد الصفوف والاعمدة\n",
    "    print (f'dtype => {ar.dtype}')# نوع البيانات الموجودة في المصفوفة\n",
    "\n",
    "list1 = [1,2,3] # Normal list\n",
    "list2 = [4,5,6]\n",
    "arr = np.array((1,2,3,4))\n",
    "arr2 = np.array([list1,list2,list1] ,dtype=np.float64)\n",
    "# dtype=np.float64 بتحدد نوعية البيانات داخل القائمة ويقوم بتحويلها حسب ما بده \n",
    "\n",
    "arrone = np.ones((2,2))\n",
    "#(2,2) انت فقط تقوم بتحديد الاعمدة والصفوف ولكن داخل تطون كلها واحدات\n",
    "arrZero = np.zeros((4,3))\n",
    "\n",
    "arrRange = np.arange(10) # تقوم باعطائك قائمة من 0 الى 9 \n",
    "\n",
    "arrLineSpace = np.linspace(0,30 ,num=5)# num=5 يعطيك خمس ارقام فقط\n",
    "\n",
    "arrRandom = np.random.rand(2,3)\n",
    "\n",
    "arrReshape = arrZero.reshape(12)\n",
    "# reshape حيث يقوم باعادة تشكيل المصفوفة جديد حيث يقوم بالغاء جميع الصفوف وتحويلها الى مصفوفة واحدةى \n",
    "\n",
    "arrOnes_Like = np.ones_like(arrReshape)\n",
    "\n",
    "arrFull = np.full(shape=(2,2,6), fill_value=8)\n",
    "# shape=(2,2,6) حيث يقوم ببناء صفين و6 اعمدة من ثلاث ابعاد\n",
    "# fill_value=8 قيمة الاعداد الى فيها كله ثمانية\n",
    "\n",
    "arrEye = np.eye(N=4)\n",
    "# N=4 يعطيك مصفوفة اربعة اعمدة واربعة صفوف يعطيك القطر الرئيسي كله واحدات\n",
    "\n",
    "# describe(arr2)\n",
    "# describe(arrone)\n",
    "# describe(arrZero)\n",
    "# describe(arrRange)\n",
    "# describe(arrLineSpace)\n",
    "# describe(arrRandom)\n",
    "# describe(arrReshape)\n",
    "# describe(arrOnes_Like)\n",
    "# describe(arrFull)\n",
    "describe(arrEye)"
   ]
  },
  {
   "cell_type": "code",
   "execution_count": 3,
   "metadata": {},
   "outputs": [
    {
     "name": "stdout",
     "output_type": "stream",
     "text": [
      "a + b : [2. 2. 4. 4. 6.]\n",
      "a + b : [0. 2. 2. 4. 4.]\n",
      "a + b : [1. 0. 3. 0. 5.]\n",
      "a + b : [1.         0.         0.33333333 0.         0.2       ]\n",
      "a + b : [11 12 13 14 15]\n",
      "a + b : [-9 -8 -7 -6 -5]\n",
      "a + b : [10 20 30 40 50]\n",
      "a + b : [0.1 0.2 0.3 0.4 0.5]\n",
      "a + b : [ 1  4  9 16 25]\n",
      "________________________________________\n",
      "a.c: [55]\n",
      "________________________________________\n",
      "c min :  1\n",
      "c max :  5\n",
      "c max :  15\n",
      "c max :  3.0\n",
      "________________________________________\n",
      "[[10 20]\n",
      " [30 40]\n",
      " [50 60]\n",
      " [70 80]]\n",
      "c min (columns):  [10 20]\n",
      "c min (rows):  [10 30 50 70]\n",
      "c max (columns):  [70 80]\n",
      "c max (rows):  [20 40 60 80]\n",
      "c max (columns):  [160 200]\n",
      "c max (rows):  [ 30  70 110 150]\n",
      "c max (columns):  [40. 50.]\n",
      "c max (rows):  [15. 35. 55. 75.]\n",
      "Dot two array : [[13 17]\n",
      " [15 11]]\n",
      "sum of array : 14\n",
      "add two array : [[6 6]\n",
      " [5 5]]\n",
      "mean two array : 2.0\n",
      "matmul two array : [[13 17]\n",
      " [15 11]]\n",
      "multiply two array : [[9 5]\n",
      " [4 6]]\n"
     ]
    }
   ],
   "source": [
    "from matplotlib.pyplot import axis\n",
    "import numpy as np\n",
    "a = np.array([1,2,3,4,5])\n",
    "b = np.array([1.0,0.0,1.0,0.0,1.0])\n",
    "\n",
    "print('a + b :' ,a + b) # element-wise addition\n",
    "print('a + b :' ,a - b) # element-wise subtraction\n",
    "print('a + b :' ,a * b) # element-wise product\n",
    "print('a + b :' ,b / a) # element-wise division \n",
    "\n",
    "print('a + b :' ,a + 10) # scalar addition\n",
    "print('a + b :' ,a - 10) # scalar subtraction\n",
    "print('a + b :' ,a * 10) # scalar product\n",
    "print('a + b :' ,a / 10) # scalar division\n",
    "print('a + b :' ,a ** 2) # scalar exponentiation\n",
    "\n",
    "print(\"_\"*40)\n",
    "\n",
    "c = np.array([[1],[2],[3],[4],[5]])\n",
    "print('a.c:',a.dot(c))\n",
    "\n",
    "print('_'*40)\n",
    "print('c min : ' ,c.min())\n",
    "print('c max : ' ,c.max())\n",
    "print('c max : ' ,c.sum())\n",
    "print('c max : ' ,c.mean())\n",
    "\n",
    "print(\"_\"*40)\n",
    "d = np.array([[10,20],[30,40],[50,60],[70,80]])\n",
    "\n",
    "print(d)\n",
    "print('c min (columns): ' ,d.min(axis = 0))\n",
    "print('c min (rows): ' ,d.min(axis = 1))\n",
    "print('c max (columns): ' ,d.max(axis = 0))\n",
    "print('c max (rows): ' ,d.max(axis = 1))\n",
    "print('c max (columns): ' ,d.sum(axis = 0))\n",
    "print('c max (rows): ' ,d.sum(axis = 1))\n",
    "print('c max (columns): ' ,d.mean(axis = 0))\n",
    "print('c max (rows): ' ,d.mean(axis = 1))\n",
    "\n",
    "\n",
    "a = np.array([[3,1],[1,3]])\n",
    "b = np.array([[3,5],[4,2]])\n",
    "z = np.dot(a,b)\n",
    "print(f'Dot two array : {z}')\n",
    "z =np.sum(b)\n",
    "print(f'sum of array : {z}')\n",
    "print(f\"add two array : {np.add(a,b)}\")\n",
    "print(f\"mean two array : {np.mean(a)}\")\n",
    "print(f\"matmul two array : {np.matmul(a,b)}\") # smile Dot \n",
    "print(f\"multiply two array : {np.multiply(a,b)}\") # عملية الشرب الطبيعية"
   ]
  },
  {
   "cell_type": "code",
   "execution_count": 7,
   "metadata": {},
   "outputs": [
    {
     "name": "stdout",
     "output_type": "stream",
     "text": [
      "sum using loop : 10000000 time :1.0940933227539062\n",
      "________________________________________\n",
      "sum using vectorized implementation  : -2014260032 Time :0.0039713382720947266\n"
     ]
    }
   ],
   "source": [
    "import time\n",
    "start_time = time.time()\n",
    "a = np.arange(10000000)\n",
    "b =0 \n",
    "for i in a:\n",
    "    b =b+1\n",
    "print(f'sum using loop : {b} time :{time.time()-start_time}')\n",
    "print('_'*40)\n",
    "start_time = time.time()\n",
    "print(f'sum using vectorized implementation  : {a.sum()} Time :{time.time()-start_time}')\n"
   ]
  },
  {
   "cell_type": "markdown",
   "metadata": {},
   "source": [
    "Pickle"
   ]
  },
  {
   "cell_type": "code",
   "execution_count": 8,
   "metadata": {},
   "outputs": [],
   "source": [
    "import pickle\n",
    "colors = {\"red\": 1, \"blue\": 2 , \"blacke\": 3}\n",
    "\n",
    "with open (\"color_name\" , mode = \"bw\") as f :\n",
    "    pickle.dump(obj = colors, file = f)\n",
    "# وظيفة dump : وتقوم بتشفيره  object  تستقبل \n"
   ]
  },
  {
   "cell_type": "code",
   "execution_count": 10,
   "metadata": {},
   "outputs": [
    {
     "name": "stdout",
     "output_type": "stream",
     "text": [
      "{'red': 1, 'blue': 2, 'blacke': 3}\n"
     ]
    }
   ],
   "source": [
    "with open (\"color_name\" , mode = \"br\") as f :\n",
    "    colors =pickle.load(f)\n",
    "# load : تقوم بتحميل الملف الى متغير يعني كانك بترجعه لشكله السابق\n",
    "print(colors)\n"
   ]
  },
  {
   "cell_type": "markdown",
   "metadata": {},
   "source": [
    "Normal VS uniform Distribution"
   ]
  },
  {
   "cell_type": "code",
   "execution_count": 12,
   "metadata": {},
   "outputs": [],
   "source": [
    "u = np.random.uniform(-4,4,1000000)\n",
    "\n",
    "n = np.random.normal(-4,4,1000000)\n",
    "\n",
    "# -4 position  الوقع الذي سوف يتمركز فيه \n",
    "# 4 scale\n",
    "# 1000000 size\n",
    "import matplotlib.pyplot as plt\n",
    "\n",
    "# hist : hist diagram organization \n",
    "#  يعطيك شكل التوزيع كيف متوزيع على الداتا\n",
    "# plt.hist(u,100)\n",
    "# plt.hist(n,100)"
   ]
  },
  {
   "cell_type": "markdown",
   "metadata": {},
   "source": [
    "Pandas"
   ]
  },
  {
   "cell_type": "code",
   "execution_count": 13,
   "metadata": {},
   "outputs": [],
   "source": [
    "import pandas as pd\n",
    "import numpy as np"
   ]
  },
  {
   "cell_type": "code",
   "execution_count": 29,
   "metadata": {},
   "outputs": [
    {
     "name": "stdout",
     "output_type": "stream",
     "text": [
      "s1 =>\n",
      " 0    10\n",
      "1    11\n",
      "2    12\n",
      "3    13\n",
      "4    14\n",
      "dtype: int64\n",
      "\n",
      "  \n",
      "s2 =>\n",
      " first     1\n",
      "second    2\n",
      "Third     3\n",
      "dtype: int64\n",
      "\n",
      "  \n",
      "s3 =>\n",
      " a     1\n",
      "b    20\n",
      "c     5\n",
      "dtype: int64\n",
      "\n",
      "  \n",
      "s4 =>\n",
      " 0    42\n",
      "1    42\n",
      "2    42\n",
      "3    42\n",
      "4    42\n",
      "5    42\n",
      "6    42\n",
      "7    42\n",
      "8    42\n",
      "9    42\n",
      "Name: s4, dtype: int64\n"
     ]
    }
   ],
   "source": [
    "#panda :series تتعامل مع البيانات المتسلسة \n",
    "\n",
    "# طرق ادخال الداتا في باندا\n",
    "s1 = pd.Series([10,11,12,13,14])\n",
    "print(f's1 =>\\n {s1}')\n",
    "\n",
    "print(\"\\n  \")\n",
    "\n",
    "s2 = pd.Series([1,2,3],index = ['first','second','Third'])\n",
    "#index : هي العناوين التي يمكنك اعطاءها لداتا\n",
    "# لازم يكون عدد الداتا المدخلة متساوية مع عدد العناوين index شرط اساسي عند استخدام \n",
    "print(f's2 =>\\n {s2}')\n",
    "\n",
    "print(\"\\n  \")\n",
    "\n",
    "s3 = pd.Series({'a':1 , 'b':20 , 'c': 5})\n",
    "print(f's3 =>\\n {s3}')\n",
    "\n",
    "print(\"\\n  \")\n",
    "\n",
    "s4 = pd.Series(42,range(10),name ='s4')\n",
    "print(f's4 =>\\n {s4}')"
   ]
  },
  {
   "cell_type": "markdown",
   "metadata": {},
   "source": [
    "Method use pandas"
   ]
  },
  {
   "cell_type": "code",
   "execution_count": 38,
   "metadata": {},
   "outputs": [
    {
     "name": "stdout",
     "output_type": "stream",
     "text": [
      "3\n",
      "(3,)\n",
      "int64\n",
      "Index(['a', 'b', 'c'], dtype='object')\n",
      "________________________________________\n",
      "s2 =>\n",
      " first     9\n",
      "second    2\n",
      "Third     3\n",
      "dtype: int64\n",
      "________________________________________\n",
      "2    42\n",
      "3    42\n",
      "Name: s4, dtype: int64\n",
      "________________________________________\n",
      "a     1\n",
      "b    20\n",
      "c     5\n",
      "dtype: int64\n",
      "________________________________________\n",
      "b    20\n",
      "dtype: int64\n",
      "________________________________________\n",
      "a    False\n",
      "b     True\n",
      "c    False\n",
      "dtype: bool\n",
      "________________________________________\n",
      "mean s3 =>  8.666666666666666\n"
     ]
    }
   ],
   "source": [
    "print(s3.size)\n",
    "print(s3.shape)\n",
    "print(s3.dtype)\n",
    "print(s3.index)\n",
    "\n",
    "print(\"_\"*40)\n",
    "#change\n",
    "#before first     1\n",
    "#after\n",
    "s2[\"first\"]= 9\n",
    "print(f's2 =>\\n {s2}')\n",
    "\n",
    "print(\"_\"*40)\n",
    "#selected 2 variable\n",
    "print(s4[[2,3]])\n",
    "print(\"_\"*40)\n",
    "print(s3['a':'c'])\n",
    "print(\"_\"*40)\n",
    "print(s3[s3>8])\n",
    "print(\"_\"*40)\n",
    "print(s3>8)\n",
    "print(\"_\"*40)\n",
    "print(\"mean s3 => \", s3.mean())\n"
   ]
  },
  {
   "cell_type": "markdown",
   "metadata": {},
   "source": [
    "DataFrame\n"
   ]
  },
  {
   "cell_type": "code",
   "execution_count": 5,
   "metadata": {},
   "outputs": [
    {
     "data": {
      "text/html": [
       "<div>\n",
       "<style scoped>\n",
       "    .dataframe tbody tr th:only-of-type {\n",
       "        vertical-align: middle;\n",
       "    }\n",
       "\n",
       "    .dataframe tbody tr th {\n",
       "        vertical-align: top;\n",
       "    }\n",
       "\n",
       "    .dataframe thead th {\n",
       "        text-align: right;\n",
       "    }\n",
       "</style>\n",
       "<table border=\"1\" class=\"dataframe\">\n",
       "  <thead>\n",
       "    <tr style=\"text-align: right;\">\n",
       "      <th></th>\n",
       "      <th>0</th>\n",
       "      <th>1</th>\n",
       "      <th>2</th>\n",
       "    </tr>\n",
       "  </thead>\n",
       "  <tbody>\n",
       "    <tr>\n",
       "      <th>0</th>\n",
       "      <td>1</td>\n",
       "      <td>2</td>\n",
       "      <td>3</td>\n",
       "    </tr>\n",
       "    <tr>\n",
       "      <th>1</th>\n",
       "      <td>4</td>\n",
       "      <td>5</td>\n",
       "      <td>6</td>\n",
       "    </tr>\n",
       "  </tbody>\n",
       "</table>\n",
       "</div>"
      ],
      "text/plain": [
       "   0  1  2\n",
       "0  1  2  3\n",
       "1  4  5  6"
      ]
     },
     "execution_count": 5,
     "metadata": {},
     "output_type": "execute_result"
    }
   ],
   "source": [
    "import pandas as pd\n",
    "import numpy as np\n",
    "\n",
    "#  2 diminution طريقة التعامل مع \n",
    "df = pd.DataFrame([[1,2,3],[4,5,6]])\n",
    "df\n"
   ]
  },
  {
   "cell_type": "code",
   "execution_count": 8,
   "metadata": {},
   "outputs": [
    {
     "data": {
      "text/html": [
       "<div>\n",
       "<style scoped>\n",
       "    .dataframe tbody tr th:only-of-type {\n",
       "        vertical-align: middle;\n",
       "    }\n",
       "\n",
       "    .dataframe tbody tr th {\n",
       "        vertical-align: top;\n",
       "    }\n",
       "\n",
       "    .dataframe thead th {\n",
       "        text-align: right;\n",
       "    }\n",
       "</style>\n",
       "<table border=\"1\" class=\"dataframe\">\n",
       "  <thead>\n",
       "    <tr style=\"text-align: right;\">\n",
       "      <th></th>\n",
       "      <th>a</th>\n",
       "      <th>b</th>\n",
       "      <th>c</th>\n",
       "    </tr>\n",
       "  </thead>\n",
       "  <tbody>\n",
       "    <tr>\n",
       "      <th>r1</th>\n",
       "      <td>1</td>\n",
       "      <td>2</td>\n",
       "      <td>3</td>\n",
       "    </tr>\n",
       "    <tr>\n",
       "      <th>r2</th>\n",
       "      <td>4</td>\n",
       "      <td>5</td>\n",
       "      <td>6</td>\n",
       "    </tr>\n",
       "    <tr>\n",
       "      <th>r3</th>\n",
       "      <td>20</td>\n",
       "      <td>30</td>\n",
       "      <td>40</td>\n",
       "    </tr>\n",
       "  </tbody>\n",
       "</table>\n",
       "</div>"
      ],
      "text/plain": [
       "     a   b   c\n",
       "r1   1   2   3\n",
       "r2   4   5   6\n",
       "r3  20  30  40"
      ]
     },
     "execution_count": 8,
     "metadata": {},
     "output_type": "execute_result"
    }
   ],
   "source": [
    "# في الطريقة العادية 2 diminution طريقة التعامل مع \n",
    "ar = np.array([[1,2,3],[4,5,6],[20,30,40]])\n",
    "df = pd.DataFrame(ar,columns=['a','b','c'],index=['r1','r2','r3'])\n",
    "df"
   ]
  },
  {
   "cell_type": "code",
   "execution_count": 15,
   "metadata": {},
   "outputs": [
    {
     "name": "stdout",
     "output_type": "stream",
     "text": [
      "9\n",
      "(3, 3)\n",
      "Index(['Third', 'first', 'second'], dtype='object')\n",
      "Index(['a', 'b', 'c'], dtype='object')\n"
     ]
    },
    {
     "data": {
      "text/html": [
       "<div>\n",
       "<style scoped>\n",
       "    .dataframe tbody tr th:only-of-type {\n",
       "        vertical-align: middle;\n",
       "    }\n",
       "\n",
       "    .dataframe tbody tr th {\n",
       "        vertical-align: top;\n",
       "    }\n",
       "\n",
       "    .dataframe thead th {\n",
       "        text-align: right;\n",
       "    }\n",
       "</style>\n",
       "<table border=\"1\" class=\"dataframe\">\n",
       "  <thead>\n",
       "    <tr style=\"text-align: right;\">\n",
       "      <th></th>\n",
       "      <th>a</th>\n",
       "      <th>b</th>\n",
       "      <th>c</th>\n",
       "    </tr>\n",
       "  </thead>\n",
       "  <tbody>\n",
       "    <tr>\n",
       "      <th>Third</th>\n",
       "      <td>NaN</td>\n",
       "      <td>3.0</td>\n",
       "      <td>3.0</td>\n",
       "    </tr>\n",
       "    <tr>\n",
       "      <th>first</th>\n",
       "      <td>1.0</td>\n",
       "      <td>1.0</td>\n",
       "      <td>NaN</td>\n",
       "    </tr>\n",
       "    <tr>\n",
       "      <th>second</th>\n",
       "      <td>2.0</td>\n",
       "      <td>NaN</td>\n",
       "      <td>2.0</td>\n",
       "    </tr>\n",
       "  </tbody>\n",
       "</table>\n",
       "</div>"
      ],
      "text/plain": [
       "          a    b    c\n",
       "Third   NaN  3.0  3.0\n",
       "first   1.0  1.0  NaN\n",
       "second  2.0  NaN  2.0"
      ]
     },
     "execution_count": 15,
     "metadata": {},
     "output_type": "execute_result"
    }
   ],
   "source": [
    "s1 = pd.Series([1,2],index = ['first','second'])\n",
    "s2 = pd.Series([1,3],index = ['first','Third'])\n",
    "s3 = pd.Series([2,3],index = ['second','Third'])\n",
    "\n",
    "df = pd.DataFrame({'a':s1 , 'b':s2,'c':s3})\n",
    "\n",
    "print(df.size)\n",
    "print(df.shape)\n",
    "print(df.index)\n",
    "print(df.columns)\n",
    "\n",
    "df"
   ]
  },
  {
   "cell_type": "code",
   "execution_count": 34,
   "metadata": {},
   "outputs": [],
   "source": [
    "# df['d'] = df['c'] + 1\n",
    "# df\n",
    "# df = df *2\n",
    "# df\n",
    "\n",
    "# # change in row\n",
    "# df['c'] = pd.Series({'row1': 7.3})\n",
    "# df\n",
    "\n",
    "# delete\n",
    "# df = df.drop(['c'],axis=1)\n",
    "# df\n",
    "\n",
    "# print(type(df['a']))\n",
    "\n",
    "# df.loc['first'] # index label\n",
    "\n",
    "# df.iloc[2] #index position\n",
    "\n",
    "# df[1:]\n",
    "\n",
    "# df.describe() # بعمل احصاء لكل شئ في الجدول\n",
    "\n",
    "# df.head() # تجلب اول خمس عناصر\n",
    "# df.tail() # تجلب اخر خمس عناصر\n",
    "\n",
    "df.to_csv('text.csv' , header=False , index=False)# يقوم بانشاء ملف ووضع معلوماتك فيه\n",
    "df = pd.read_csv() # يقوم بقراءة الملف  الخاص بك"
   ]
  },
  {
   "cell_type": "markdown",
   "metadata": {},
   "source": [
    "Plot DataFrame "
   ]
  },
  {
   "cell_type": "code",
   "execution_count": 6,
   "metadata": {},
   "outputs": [
    {
     "name": "stdout",
     "output_type": "stream",
     "text": [
      "AxesSubplot(0.125,0.11;0.775x0.77)\n"
     ]
    },
    {
     "data": {
      "image/png": "[encoded data removed]",
      "text/plain": [
       "<Figure size 640x480 with 1 Axes>"
      ]
     },
     "metadata": {},
     "output_type": "display_data"
    },
    {
     "data": {
      "image/png": "[encoded data removed]",
      "text/plain": [
       "<Figure size 640x480 with 1 Axes>"
      ]
     },
     "metadata": {},
     "output_type": "display_data"
    }
   ],
   "source": [
    "import matplotlib.pyplot as plot\n",
    "import numpy as np\n",
    "import pandas as pd\n",
    "x = np.linspace(0,10,100)\n",
    "y = x**2\n",
    "\n",
    "df = pd.DataFrame(np.array([x,y]).T, columns = ['a','b'])\n",
    "df.plot() # تعمل رسم بياني لداتا الموجودة معاي \n",
    "print(df.plot.bar()) # تعمل الرسم بياني على شكل اعمدة"
   ]
  }
 ],
 "metadata": {
  "kernelspec": {
   "display_name": "Python 3.10.7 64-bit (microsoft store)",
   "language": "python",
   "name": "python3"
  },
  "language_info": {
   "codemirror_mode": {
    "name": "ipython",
    "version": 3
   },
   "file_extension": ".py",
   "mimetype": "text/x-python",
   "name": "python",
   "nbconvert_exporter": "python",
   "pygments_lexer": "ipython3",
   "version": "3.10.8"
  },
  "orig_nbformat": 4,
  "vscode": {
   "interpreter": {
    "hash": "a97dfee85535fb1d5b47fe9558cac8ab9061198b8187c5e3fe351ac320e8c61d"
   }
  }
 },
 "nbformat": 4,
 "nbformat_minor": 2
}
